{
  "nbformat": 4,
  "nbformat_minor": 0,
  "metadata": {
    "colab": {
      "name": "TF2_2.ipynb",
      "provenance": []
    },
    "kernelspec": {
      "name": "python3",
      "display_name": "Python 3"
    },
    "accelerator": "GPU"
  },
  "cells": [
    {
      "cell_type": "code",
      "metadata": {
        "id": "NTpI2L2I3p0X"
      },
      "source": [
        "#%tensorflow_version 2.x\n",
        "import tensorflow as tf\n",
        "import numpy as np\n",
        "from matplotlib import pyplot as plt"
      ],
      "execution_count": null,
      "outputs": []
    },
    {
      "cell_type": "code",
      "metadata": {
        "id": "ElTrzmi03_x1",
        "colab": {
          "base_uri": "https://localhost:8080/",
          "height": 265
        },
        "outputId": "121c7174-41f7-4afd-b701-a09a3a04e202"
      },
      "source": [
        "N = 100\n",
        "X = np.random.rand(N, 1)\n",
        "Y = np.sin(2 * np.pi * X) + 0.4 * np.random.rand(N, 1)\n",
        "plt.plot(X, Y, '.')\n",
        "plt.show()"
      ],
      "execution_count": null,
      "outputs": [
        {
          "output_type": "display_data",
          "data": {
            "image/png": "[encoded data removed]",
            "text/plain": [
              "<Figure size 432x288 with 1 Axes>"
            ]
          },
          "metadata": {
            "tags": [],
            "needs_background": "light"
          }
        }
      ]
    },
    {
      "cell_type": "code",
      "metadata": {
        "id": "xcQSz2Gd4S6J"
      },
      "source": [
        "W = np.random.rand()\n",
        "b = np.random.rand()\n",
        "\n",
        "W = tf.Variable(W)\n",
        "b = tf.Variable(b)\n",
        "lr = 0.1\n",
        "\n",
        "for epoch in range(1000):\n",
        "  with tf.GradientTape() as t:\n",
        "    y = W * X + b\n",
        "    loss = tf.reduce_mean((y - Y)**2)\n",
        "  dW, db = t.gradient(loss, [W, b]) # de/dW, de/db\n",
        "  W.assign_sub(lr * dW) # W -= lr * dW\n",
        "  b.assign_sub(lr * db) # b -= lr * db\n",
        "  print(epoch, W.numpy(), b.numpy(), loss.numpy())"
      ],
      "execution_count": null,
      "outputs": []
    },
    {
      "cell_type": "code",
      "metadata": {
        "id": "9a6noAxw40Qm",
        "colab": {
          "base_uri": "https://localhost:8080/",
          "height": 269
        },
        "outputId": "441f068d-865b-4f1c-c96b-6928246c6e3f"
      },
      "source": [
        "Z = W * X + b\n",
        "plt.plot(X, Z, '.r')\n",
        "plt.plot(X, Y, '.')\n",
        "plt.show()"
      ],
      "execution_count": null,
      "outputs": [
        {
          "output_type": "display_data",
          "data": {
            "image/png": "[encoded data removed]",
            "text/plain": [
              "<Figure size 432x288 with 1 Axes>"
            ]
          },
          "metadata": {
            "tags": []
          }
        }
      ]
    },
    {
      "cell_type": "code",
      "metadata": {
        "id": "u0S8pn3j5KbC",
        "colab": {
          "base_uri": "https://localhost:8080/",
          "height": 146
        },
        "outputId": "866391a5-5925-4273-8f36-20675a15b8d8"
      },
      "source": [
        "#  1--W1--100--W2--100--W3--1\n",
        "W1 = tf.Variable(np.random.randn(1, 100))\n",
        "b1 = tf.Variable(np.random.randn(100))\n",
        "W2 = tf.Variable(np.random.randn(100, 100))\n",
        "b2 = tf.Variable(np.random.randn(100))\n",
        "W3 = tf.Variable(np.random.randn(100, 1))\n",
        "b3 = tf.Variable(np.random.randn(1))\n",
        "\n",
        "def relu(x):\n",
        "  return tf.where(x>=0, x, 0)\n",
        "\n",
        "lr = 0.0001\n",
        "for epoch in range(7000):\n",
        "  with tf.GradientTape() as t:\n",
        "    y = relu(X @ W1 + b1)\n",
        "    y = relu(y @ W2 + b2)\n",
        "    y = y @ W3 + b3\n",
        "    loss = tf.reduce_mean((y - Y)**2)\n",
        "  dW1, db1, dW2, db2, dW3, db3 = t.gradient(loss, [W1, b1, W2, b2, W3, b3])\n",
        "  W1.assign_sub(lr * dW1)\n",
        "  b1.assign_sub(lr * db1)\n",
        "  W2.assign_sub(lr * dW2)\n",
        "  b2.assign_sub(lr * db2)\n",
        "  W3.assign_sub(lr * dW3)\n",
        "  b3.assign_sub(lr * db3)\n",
        "  if epoch % 1000 == 0:\n",
        "    print(loss.numpy())"
      ],
      "execution_count": null,
      "outputs": [
        {
          "output_type": "stream",
          "text": [
            "7845.94693547782\n",
            "0.06498967055961537\n",
            "0.03717282383001333\n",
            "0.02768017366146913\n",
            "0.0244097798728877\n",
            "0.022640587692735803\n",
            "0.021634131438579677\n"
          ],
          "name": "stdout"
        }
      ]
    },
    {
      "cell_type": "code",
      "metadata": {
        "id": "2bdJVRbA_Cta",
        "colab": {
          "base_uri": "https://localhost:8080/",
          "height": 265
        },
        "outputId": "dc3a2ee9-f509-4f48-981d-4b389c2b83da"
      },
      "source": [
        "Z = relu(X @ W1 + b1)\n",
        "Z = relu(Z @ W2 + b2)\n",
        "Z = Z @ W3 + b3\n",
        "plt.plot(X, Z, '.r')\n",
        "plt.plot(X, Y, '.')\n",
        "plt.savefig('re.png')\n",
        "plt.show()"
      ],
      "execution_count": null,
      "outputs": [
        {
          "output_type": "display_data",
          "data": {
            "image/png": "[encoded data removed]",
            "text/plain": [
              "<Figure size 432x288 with 1 Axes>"
            ]
          },
          "metadata": {
            "tags": [],
            "needs_background": "light"
          }
        }
      ]
    },
    {
      "cell_type": "code",
      "metadata": {
        "id": "NHpYq3ZK_QXn"
      },
      "source": [
        ""
      ],
      "execution_count": null,
      "outputs": []
    }
  ]
}