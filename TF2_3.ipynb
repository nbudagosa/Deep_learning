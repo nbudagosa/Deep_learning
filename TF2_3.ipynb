{
  "nbformat": 4,
  "nbformat_minor": 0,
  "metadata": {
    "colab": {
      "name": "TF2_3.ipynb",
      "provenance": []
    },
    "kernelspec": {
      "name": "python3",
      "display_name": "Python 3"
    },
    "accelerator": "GPU"
  },
  "cells": [
    {
      "cell_type": "code",
      "metadata": {
        "id": "dTQLbnIA8bTm"
      },
      "source": [
        "#%tensorflow_version 2.x\n",
        "import tensorflow as tf\n",
        "import numpy as np\n",
        "from matplotlib import pyplot as plt"
      ],
      "execution_count": null,
      "outputs": []
    },
    {
      "cell_type": "code",
      "metadata": {
        "id": "bhYMMLMfuK9U"
      },
      "source": [
        ""
      ],
      "execution_count": null,
      "outputs": []
    },
    {
      "cell_type": "code",
      "metadata": {
        "id": "rNsfG3ST8hBC",
        "colab": {
          "base_uri": "https://localhost:8080/",
          "height": 265
        },
        "outputId": "bbbf00ee-748b-4649-fd25-59e8b5f8ad3b"
      },
      "source": [
        "N = 100\n",
        "X = np.random.rand(N, 1)\n",
        "Y = np.sin(2 * np.pi * X) + 0.4 * np.random.rand(N, 1)\n",
        "plt.plot(X, Y, '.')\n",
        "plt.show()"
      ],
      "execution_count": null,
      "outputs": [
        {
          "output_type": "display_data",
          "data": {
            "image/png": "[encoded data removed]",
            "text/plain": [
              "<Figure size 432x288 with 1 Axes>"
            ]
          },
          "metadata": {
            "tags": [],
            "needs_background": "light"
          }
        }
      ]
    },
    {
      "cell_type": "code",
      "metadata": {
        "id": "A6jAYle48lxn",
        "colab": {
          "base_uri": "https://localhost:8080/",
          "height": 145
        },
        "outputId": "00d160a0-b6ae-48a9-de81-31e254e0dddd"
      },
      "source": [
        "#  1--W1--100--W2--100--W3--1\n",
        "W1 = tf.Variable(np.random.randn(1, 100))\n",
        "b1 = tf.Variable(np.random.randn(100))\n",
        "W2 = tf.Variable(np.random.randn(100, 100))\n",
        "b2 = tf.Variable(np.random.randn(100))\n",
        "W3 = tf.Variable(np.random.randn(100, 1))\n",
        "b3 = tf.Variable(np.random.randn(1))\n",
        "\n",
        "def relu(x):\n",
        "  return tf.where(x>=0, x, 0)\n",
        "\n",
        "lr = 0.0001\n",
        "for epoch in range(7000):\n",
        "  with tf.GradientTape() as t:\n",
        "    y = relu(X @ W1 + b1)\n",
        "    y = relu(y @ W2 + b2)\n",
        "    y = y @ W3 + b3\n",
        "    loss = tf.reduce_mean((y - Y)**2)\n",
        "  dW1, db1, dW2, db2, dW3, db3 = t.gradient(loss, [W1, b1, W2, b2, W3, b3])\n",
        "  W1.assign_sub(lr * dW1)\n",
        "  b1.assign_sub(lr * db1)\n",
        "  W2.assign_sub(lr * dW2)\n",
        "  b2.assign_sub(lr * db2)\n",
        "  W3.assign_sub(lr * dW3)\n",
        "  b3.assign_sub(lr * db3)\n",
        "  if epoch % 1000 == 0:\n",
        "    print(loss.numpy())"
      ],
      "execution_count": null,
      "outputs": [
        {
          "output_type": "stream",
          "text": [
            "213.3065012674625\n",
            "0.04505213363157745\n",
            "0.025556976385824753\n",
            "0.02047112210275665\n",
            "0.018004130612793635\n",
            "0.017054437828000937\n",
            "0.016514699216436026\n"
          ],
          "name": "stdout"
        }
      ]
    },
    {
      "cell_type": "code",
      "metadata": {
        "id": "le_8kaq98t6Y",
        "colab": {
          "base_uri": "https://localhost:8080/",
          "height": 269
        },
        "outputId": "21086707-962c-4ad3-a06f-07ac2edd3a04"
      },
      "source": [
        "Z = relu(X @ W1 + b1)\n",
        "Z = relu(Z @ W2 + b2)\n",
        "Z = Z @ W3 + b3\n",
        "plt.plot(X, Z, '.r')\n",
        "plt.plot(X, Y, '.')\n",
        "plt.show()"
      ],
      "execution_count": null,
      "outputs": [
        {
          "output_type": "display_data",
          "data": {
            "image/png": "[encoded data removed]",
            "text/plain": [
              "<Figure size 432x288 with 1 Axes>"
            ]
          },
          "metadata": {
            "tags": []
          }
        }
      ]
    },
    {
      "cell_type": "code",
      "metadata": {
        "id": "1d9MLE85TOye"
      },
      "source": [
        "def relu(x):\n",
        "  return tf.where(x>=0, x, 0)\n",
        "\n",
        "class MLP():\n",
        "  def __init__(self, neurons=[1, 100, 100, 1], activation=[relu, relu, None]):\n",
        "    self.W = []\n",
        "    self.activation = activation\n",
        "    for i in range(1, len(neurons)):\n",
        "      self.W.append(tf.Variable(np.random.randn(neurons[i-1], neurons[i]))) # W\n",
        "      self.W.append(tf.Variable(np.random.randn(neurons[i]))) # b\n",
        "  def __call__(self, x):\n",
        "    for i in range(0, len(self.W), 2):\n",
        "      x = x @ self.W[i] + self.W[i+1]\n",
        "      if self.activation[i // 2] is not None:\n",
        "        x = self.activation[i // 2](x)\n",
        "    return x"
      ],
      "execution_count": null,
      "outputs": []
    },
    {
      "cell_type": "code",
      "metadata": {
        "id": "gUw012f5Wdq_",
        "colab": {
          "base_uri": "https://localhost:8080/",
          "height": 146
        },
        "outputId": "9f7ed71d-44f1-48e9-e5f6-db7015ab4db7"
      },
      "source": [
        "lr = 0.0001\n",
        "model = MLP()\n",
        "for epoch in range(7000):\n",
        "  with tf.GradientTape() as t:\n",
        "    loss = tf.reduce_mean((model(X) - Y)**2)\n",
        "  dW = t.gradient(loss, model.W)\n",
        "  for i, W in enumerate(model.W):\n",
        "    W.assign_sub(lr * dW[i])\n",
        "  if epoch % 1000 == 0:\n",
        "    print(loss.numpy())"
      ],
      "execution_count": null,
      "outputs": [
        {
          "output_type": "stream",
          "text": [
            "1594.1880003636368\n",
            "0.023365970928223255\n",
            "0.017736409932721867\n",
            "0.01574028692737814\n",
            "0.014984476197675105\n",
            "0.014556954440451448\n",
            "0.014108217645886614\n"
          ],
          "name": "stdout"
        }
      ]
    },
    {
      "cell_type": "code",
      "metadata": {
        "id": "fetwT6bzXrtf",
        "colab": {
          "base_uri": "https://localhost:8080/",
          "height": 265
        },
        "outputId": "a23a2959-fdd2-4fd7-b738-318732a57db6"
      },
      "source": [
        "Z = model(X)\n",
        "plt.plot(X, Z, '.r')\n",
        "plt.plot(X, Y, '.')\n",
        "plt.show()"
      ],
      "execution_count": null,
      "outputs": [
        {
          "output_type": "display_data",
          "data": {
            "image/png": "[encoded data removed]",
            "text/plain": [
              "<Figure size 432x288 with 1 Axes>"
            ]
          },
          "metadata": {
            "tags": [],
            "needs_background": "light"
          }
        }
      ]
    }
  ]
}